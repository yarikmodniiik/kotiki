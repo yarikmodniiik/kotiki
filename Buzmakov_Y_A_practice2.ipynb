{
  "nbformat": 4,
  "nbformat_minor": 0,
  "metadata": {
    "kernelspec": {
      "display_name": "Python 3",
      "language": "python",
      "name": "python3"
    },
    "language_info": {
      "codemirror_mode": {
        "name": "ipython",
        "version": 3
      },
      "file_extension": ".py",
      "mimetype": "text/x-python",
      "name": "python",
      "nbconvert_exporter": "python",
      "pygments_lexer": "ipython3",
      "version": "3.7.6"
    },
    "colab": {
      "provenance": []
    }
  },
  "cells": [
    {
      "cell_type": "code",
      "metadata": {
        "id": "exFkotWz7Lk_",
        "colab": {
          "base_uri": "https://localhost:8080/"
        },
        "outputId": "1c32e9e6-6306-45d6-c1f5-ca66981f4b7a"
      },
      "source": [
        "%load_ext sql\n",
        "%sql sqlite:///store.db"
      ],
      "execution_count": 5,
      "outputs": [
        {
          "output_type": "stream",
          "name": "stdout",
          "text": [
            "The sql extension is already loaded. To reload it, use:\n",
            "  %reload_ext sql\n"
          ]
        }
      ]
    },
    {
      "cell_type": "code",
      "source": [],
      "metadata": {
        "id": "iSVKU9niFauN"
      },
      "execution_count": null,
      "outputs": []
    },
    {
      "cell_type": "markdown",
      "metadata": {
        "id": "eEAq-gUB7LlF"
      },
      "source": [
        "## Задание 1\n",
        "Вывести 5 самых больших по размеру (в байтах) треков жанра Blues и формата MPEG. Только название и размер.\n"
      ]
    },
    {
      "cell_type": "code",
      "source": [
        "%%sql\n",
        "SELECT t.Name, t.Bytes\n",
        "  FROM tracks t\n",
        "JOIN genres g, media_types m\n",
        "WHERE t.GenreId = g.GenreId\n",
        "  and g.Name = \"Blues\"\n",
        "  and t.MediaTypeId = m.MediaTypeId\n",
        "  and m.Name LIKE 'MPEG%'\n",
        "ORDER\n",
        "  BY t.Bytes DESC\n",
        "LIMIT 5"
      ],
      "metadata": {
        "id": "O7MqEcWciQHD",
        "colab": {
          "base_uri": "https://localhost:8080/",
          "height": 178
        },
        "outputId": "847f2ac5-b34c-4548-c0d5-f8f766aecff1"
      },
      "execution_count": 13,
      "outputs": [
        {
          "output_type": "stream",
          "name": "stdout",
          "text": [
            " * sqlite:///store.db\n",
            "Done.\n"
          ]
        },
        {
          "output_type": "execute_result",
          "data": {
            "text/plain": [
              "[('Old Love', 15780747),\n",
              " ('Running On Faith', 12536275),\n",
              " ('Lonely Stranger', 10894406),\n",
              " ('Layla', 9490542),\n",
              " ('Tears In Heaven', 9032835)]"
            ],
            "text/html": [
              "<table>\n",
              "    <thead>\n",
              "        <tr>\n",
              "            <th>Name</th>\n",
              "            <th>Bytes</th>\n",
              "        </tr>\n",
              "    </thead>\n",
              "    <tbody>\n",
              "        <tr>\n",
              "            <td>Old Love</td>\n",
              "            <td>15780747</td>\n",
              "        </tr>\n",
              "        <tr>\n",
              "            <td>Running On Faith</td>\n",
              "            <td>12536275</td>\n",
              "        </tr>\n",
              "        <tr>\n",
              "            <td>Lonely Stranger</td>\n",
              "            <td>10894406</td>\n",
              "        </tr>\n",
              "        <tr>\n",
              "            <td>Layla</td>\n",
              "            <td>9490542</td>\n",
              "        </tr>\n",
              "        <tr>\n",
              "            <td>Tears In Heaven</td>\n",
              "            <td>9032835</td>\n",
              "        </tr>\n",
              "    </tbody>\n",
              "</table>"
            ]
          },
          "metadata": {},
          "execution_count": 13
        }
      ]
    },
    {
      "cell_type": "markdown",
      "metadata": {
        "id": "IwJ_E91n7LlD"
      },
      "source": [
        "## Задание 2\n",
        "Вывести названия всех треков и их исполнителей для всех треков жанра Rock, приобретенных сотрудниками Oracle.\n"
      ]
    },
    {
      "cell_type": "code",
      "source": [
        "%%sql\n",
        "SELECT t.Name, a.Name as Author\n",
        "  FROM tracks t\n",
        "JOIN artists a,\n",
        "     Customers c,\n",
        "     genres g,\n",
        "     invoice_items ii,\n",
        "     invoices i,\n",
        "     albums al\n",
        "\n",
        "WHERE t.AlbumId = al.AlbumId\n",
        "  and al.ArtistId = a.ArtistId\n",
        "  and t.TrackId = ii.TrackId\n",
        "  and ii.InvoiceId = i.InvoiceId\n",
        "  and i.CustomerId = c.CustomerId\n",
        "  and t.GenreId = g.GenreId\n",
        "  and c.Company = \"Oracle\"\n",
        "  and g.Name = \"Rock\""
      ],
      "metadata": {
        "id": "x3il7qiGiS1q",
        "colab": {
          "base_uri": "https://localhost:8080/",
          "height": 423
        },
        "outputId": "b84cd00f-a056-4e71-cc48-c58a2e69f013"
      },
      "execution_count": 14,
      "outputs": [
        {
          "output_type": "stream",
          "name": "stdout",
          "text": [
            " * sqlite:///store.db\n",
            "Done.\n"
          ]
        },
        {
          "output_type": "execute_result",
          "data": {
            "text/plain": [
              "[('Sunday Bloody Sunday', 'U2'),\n",
              " (\"New Year's Day\", 'U2'),\n",
              " (\"That's The Way\", 'Led Zeppelin'),\n",
              " ('Ten Years Gone', 'Led Zeppelin'),\n",
              " ('Achilles Last Stand', 'Led Zeppelin'),\n",
              " ('Tea For One', 'Led Zeppelin'),\n",
              " ('No Quarter', 'Led Zeppelin'),\n",
              " ('Bad Moon Rising', 'Creedence Clearwater Revival'),\n",
              " ('Down On The Corner', 'Creedence Clearwater Revival'),\n",
              " ('Up Around The Bend', 'Creedence Clearwater Revival'),\n",
              " ('Nothing To Say', 'Soundgarden'),\n",
              " ('A Kind Of Magic', 'Queen'),\n",
              " ('I Want To Break Free', 'Queen'),\n",
              " ('Who Wants To Live Forever', 'Queen'),\n",
              " ('The Invisible Man', 'Queen'),\n",
              " ('The Three Sunrises', 'U2'),\n",
              " ('Sweetest Thing', 'U2')]"
            ],
            "text/html": [
              "<table>\n",
              "    <thead>\n",
              "        <tr>\n",
              "            <th>Name</th>\n",
              "            <th>Author</th>\n",
              "        </tr>\n",
              "    </thead>\n",
              "    <tbody>\n",
              "        <tr>\n",
              "            <td>Sunday Bloody Sunday</td>\n",
              "            <td>U2</td>\n",
              "        </tr>\n",
              "        <tr>\n",
              "            <td>New Year&#x27;s Day</td>\n",
              "            <td>U2</td>\n",
              "        </tr>\n",
              "        <tr>\n",
              "            <td>That&#x27;s The Way</td>\n",
              "            <td>Led Zeppelin</td>\n",
              "        </tr>\n",
              "        <tr>\n",
              "            <td>Ten Years Gone</td>\n",
              "            <td>Led Zeppelin</td>\n",
              "        </tr>\n",
              "        <tr>\n",
              "            <td>Achilles Last Stand</td>\n",
              "            <td>Led Zeppelin</td>\n",
              "        </tr>\n",
              "        <tr>\n",
              "            <td>Tea For One</td>\n",
              "            <td>Led Zeppelin</td>\n",
              "        </tr>\n",
              "        <tr>\n",
              "            <td>No Quarter</td>\n",
              "            <td>Led Zeppelin</td>\n",
              "        </tr>\n",
              "        <tr>\n",
              "            <td>Bad Moon Rising</td>\n",
              "            <td>Creedence Clearwater Revival</td>\n",
              "        </tr>\n",
              "        <tr>\n",
              "            <td>Down On The Corner</td>\n",
              "            <td>Creedence Clearwater Revival</td>\n",
              "        </tr>\n",
              "        <tr>\n",
              "            <td>Up Around The Bend</td>\n",
              "            <td>Creedence Clearwater Revival</td>\n",
              "        </tr>\n",
              "        <tr>\n",
              "            <td>Nothing To Say</td>\n",
              "            <td>Soundgarden</td>\n",
              "        </tr>\n",
              "        <tr>\n",
              "            <td>A Kind Of Magic</td>\n",
              "            <td>Queen</td>\n",
              "        </tr>\n",
              "        <tr>\n",
              "            <td>I Want To Break Free</td>\n",
              "            <td>Queen</td>\n",
              "        </tr>\n",
              "        <tr>\n",
              "            <td>Who Wants To Live Forever</td>\n",
              "            <td>Queen</td>\n",
              "        </tr>\n",
              "        <tr>\n",
              "            <td>The Invisible Man</td>\n",
              "            <td>Queen</td>\n",
              "        </tr>\n",
              "        <tr>\n",
              "            <td>The Three Sunrises</td>\n",
              "            <td>U2</td>\n",
              "        </tr>\n",
              "        <tr>\n",
              "            <td>Sweetest Thing</td>\n",
              "            <td>U2</td>\n",
              "        </tr>\n",
              "    </tbody>\n",
              "</table>"
            ]
          },
          "metadata": {},
          "execution_count": 14
        }
      ]
    },
    {
      "cell_type": "markdown",
      "metadata": {
        "id": "0mmLXQXr7LlG"
      },
      "source": [
        "## Задание 3\n",
        "Для каждой компании вывести общее количество купленных джазовых композиций (если 0, можно не выводить).\n"
      ]
    },
    {
      "cell_type": "code",
      "metadata": {
        "id": "9kcvxk8OCrby",
        "colab": {
          "base_uri": "https://localhost:8080/",
          "height": 239
        },
        "outputId": "de4d1acc-b005-4611-e72f-079d8393f34b"
      },
      "source": [
        "%%sql\n",
        "SELECT c.Company, sum(ii.Quantity) as \"Количество купленных композиций\"\n",
        "  FROM tracks t\n",
        "JOIN genres g, invoice_items ii, invoices i, Customers c\n",
        "WHERE g.Name = \"Jazz\"\n",
        "  and t.GenreId = g.GenreId\n",
        "  and t.TrackId = ii.TrackId\n",
        "  and ii.InvoiceId = i.InvoiceId\n",
        "  and i.CustomerId = c.CustomerId\n",
        "GROUP\n",
        "  BY c.Company\n",
        "  HAVING c.Company not NULL"
      ],
      "execution_count": 15,
      "outputs": [
        {
          "output_type": "stream",
          "name": "stdout",
          "text": [
            " * sqlite:///store.db\n",
            "Done.\n"
          ]
        },
        {
          "output_type": "execute_result",
          "data": {
            "text/plain": [
              "[('Apple Inc.', 3),\n",
              " ('BMW', 1),\n",
              " ('Google Inc.', 16),\n",
              " ('JetBrains s.r.o.', 3),\n",
              " ('Microsoft Corporation', 19),\n",
              " ('Oracle', 3),\n",
              " ('SAP', 2),\n",
              " ('Telus', 2)]"
            ],
            "text/html": [
              "<table>\n",
              "    <thead>\n",
              "        <tr>\n",
              "            <th>Company</th>\n",
              "            <th>Количество купленных композиций</th>\n",
              "        </tr>\n",
              "    </thead>\n",
              "    <tbody>\n",
              "        <tr>\n",
              "            <td>Apple Inc.</td>\n",
              "            <td>3</td>\n",
              "        </tr>\n",
              "        <tr>\n",
              "            <td>BMW</td>\n",
              "            <td>1</td>\n",
              "        </tr>\n",
              "        <tr>\n",
              "            <td>Google Inc.</td>\n",
              "            <td>16</td>\n",
              "        </tr>\n",
              "        <tr>\n",
              "            <td>JetBrains s.r.o.</td>\n",
              "            <td>3</td>\n",
              "        </tr>\n",
              "        <tr>\n",
              "            <td>Microsoft Corporation</td>\n",
              "            <td>19</td>\n",
              "        </tr>\n",
              "        <tr>\n",
              "            <td>Oracle</td>\n",
              "            <td>3</td>\n",
              "        </tr>\n",
              "        <tr>\n",
              "            <td>SAP</td>\n",
              "            <td>2</td>\n",
              "        </tr>\n",
              "        <tr>\n",
              "            <td>Telus</td>\n",
              "            <td>2</td>\n",
              "        </tr>\n",
              "    </tbody>\n",
              "</table>"
            ]
          },
          "metadata": {},
          "execution_count": 15
        }
      ]
    },
    {
      "cell_type": "markdown",
      "metadata": {
        "id": "M2JDkqnT7LlG"
      },
      "source": [
        "## Задание 4\n",
        "Вывести топ 3 плейлиста по продолжительности (продолжительность плейлиста = сумма длин треков в нём). Только название и продолжительность (в часах).\n"
      ]
    },
    {
      "cell_type": "code",
      "metadata": {
        "id": "isEzp0r0Crzy",
        "colab": {
          "base_uri": "https://localhost:8080/",
          "height": 137
        },
        "outputId": "7d89cc6e-ce9d-4076-cf5a-f004b0b3ec8d"
      },
      "source": [
        "%%sql\n",
        "SELECT p.Name, sum(t.Milliseconds)/3600000 as \"duration in hours\"\n",
        "  FROM playlists p\n",
        "JOIN playlist_track pt, tracks t\n",
        "WHERE t.TrackId = pt.TrackId\n",
        "  and pt.PlaylistId = p.PlaylistId\n",
        "GROUP\n",
        "  BY p.PlaylistId\n",
        "ORDER BY sum(t.Milliseconds) DESC\n",
        "LIMIT 3"
      ],
      "execution_count": 18,
      "outputs": [
        {
          "output_type": "stream",
          "name": "stdout",
          "text": [
            " * sqlite:///store.db\n",
            "Done.\n"
          ]
        },
        {
          "output_type": "execute_result",
          "data": {
            "text/plain": [
              "[('From That TV Show', 138), ('Hidden Gems', 138), ('90’s Music', 10)]"
            ],
            "text/html": [
              "<table>\n",
              "    <thead>\n",
              "        <tr>\n",
              "            <th>Name</th>\n",
              "            <th>duration in hours</th>\n",
              "        </tr>\n",
              "    </thead>\n",
              "    <tbody>\n",
              "        <tr>\n",
              "            <td>From That TV Show</td>\n",
              "            <td>138</td>\n",
              "        </tr>\n",
              "        <tr>\n",
              "            <td>Hidden Gems</td>\n",
              "            <td>138</td>\n",
              "        </tr>\n",
              "        <tr>\n",
              "            <td>90’s Music</td>\n",
              "            <td>10</td>\n",
              "        </tr>\n",
              "    </tbody>\n",
              "</table>"
            ]
          },
          "metadata": {},
          "execution_count": 18
        }
      ]
    },
    {
      "cell_type": "markdown",
      "metadata": {
        "id": "Ni7Mi7ur7LlH"
      },
      "source": [
        "## Задание 5\n",
        "Для каждого набора (жанр, тип медиа) вывести количество треков в них, причем вывести только те наборы, для которых **все** треки стоят больше 1$ и для которых в наборе есть хотя бы один трек."
      ]
    },
    {
      "cell_type": "code",
      "source": [
        "%%sql\n",
        "SELECT g.Name as Genre, m.Name as MediaType, count(t.Name) as Count\n",
        "FROM tracks t\n",
        "JOIN genres g, media_types m\n",
        "WHERE t.GenreId = g.GenreId\n",
        "  and t.MediaTypeId = m.MediaTypeId\n",
        "GROUP\n",
        "  BY g.Name, m.Name\n",
        "    HAVING count(t.TrackId) > 0 and min(t.UnitPrice) >= 1"
      ],
      "metadata": {
        "id": "Y-psouvxm9vF",
        "colab": {
          "base_uri": "https://localhost:8080/",
          "height": 178
        },
        "outputId": "a8ee6e26-066e-4dff-d6da-06c7e22542ca"
      },
      "execution_count": 19,
      "outputs": [
        {
          "output_type": "stream",
          "name": "stdout",
          "text": [
            " * sqlite:///store.db\n",
            "Done.\n"
          ]
        },
        {
          "output_type": "execute_result",
          "data": {
            "text/plain": [
              "[('Blues', 'AAC audio file', 9),\n",
              " ('Comedy', 'MPEG audio file', 17),\n",
              " ('Sci Fi & Fantasy', 'MPEG audio file', 26),\n",
              " ('Science Fiction', 'MPEG audio file', 13),\n",
              " ('TV Shows', 'MPEG audio file', 93)]"
            ],
            "text/html": [
              "<table>\n",
              "    <thead>\n",
              "        <tr>\n",
              "            <th>Genre</th>\n",
              "            <th>MediaType</th>\n",
              "            <th>Count</th>\n",
              "        </tr>\n",
              "    </thead>\n",
              "    <tbody>\n",
              "        <tr>\n",
              "            <td>Blues</td>\n",
              "            <td>AAC audio file</td>\n",
              "            <td>9</td>\n",
              "        </tr>\n",
              "        <tr>\n",
              "            <td>Comedy</td>\n",
              "            <td>MPEG audio file</td>\n",
              "            <td>17</td>\n",
              "        </tr>\n",
              "        <tr>\n",
              "            <td>Sci Fi &amp; Fantasy</td>\n",
              "            <td>MPEG audio file</td>\n",
              "            <td>26</td>\n",
              "        </tr>\n",
              "        <tr>\n",
              "            <td>Science Fiction</td>\n",
              "            <td>MPEG audio file</td>\n",
              "            <td>13</td>\n",
              "        </tr>\n",
              "        <tr>\n",
              "            <td>TV Shows</td>\n",
              "            <td>MPEG audio file</td>\n",
              "            <td>93</td>\n",
              "        </tr>\n",
              "    </tbody>\n",
              "</table>"
            ]
          },
          "metadata": {},
          "execution_count": 19
        }
      ]
    }
  ]
}